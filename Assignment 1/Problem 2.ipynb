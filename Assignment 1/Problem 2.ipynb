{
 "cells": [
  {
   "cell_type": "code",
   "execution_count": 1,
   "id": "857bbd11",
   "metadata": {},
   "outputs": [
    {
     "name": "stdout",
     "output_type": "stream",
     "text": [
      "Here is the Data1:\n",
      "-----------------------------\n",
      "  subject_id first_name last_name\n",
      "0          1       Alex  Anderson\n",
      "1          2        Amy  Ackerman\n",
      "2          3      Allen       Ali\n",
      "3          4      Alice      Aoni\n",
      "4          5     Ayoung   Atiches\n",
      "\n",
      " Here is the Data2:\n",
      "-----------------------------\n",
      "  subject_id first_name last_name\n",
      "0          4      Billy    Bonder\n",
      "1          5      Brian     Black\n",
      "2          6       Bran   Balwner\n",
      "3          7      Bryce     Brice\n",
      "4          8      Betty    Btisan\n",
      "\n",
      " Here is the Data3:\n",
      "-----------------------------\n",
      "  subject_id  test_id\n",
      "0          1       51\n",
      "1          2       15\n",
      "2          3       15\n",
      "3          4       61\n",
      "4          5       16\n",
      "5          7       14\n",
      "6          8       15\n",
      "7          9        1\n",
      "8         10       61\n",
      "9         11       16\n"
     ]
    }
   ],
   "source": [
    "#Create the 3 DataFrames based on the raw data in the following cell. Assign each dataframe to a variable called data1, data2, data3.\n",
    "#Join the two dataframes along rows and assign all_data. <br>\n",
    "#Join the two dataframes along columns and assing to all_data_col. <br>\n",
    "#Merge all_data and data3 along the subject_id value. <br>\n",
    "#Merge only the data that has the same 'subject_id' on both data1 and data2. <br>\n",
    "#Merge all values in data1 and data2, with matching records from both sides where available. <br>\n",
    "\n",
    "raw_data_1 = {\n",
    "        'subject_id': ['1', '2', '3', '4', '5'],\n",
    "        'first_name': ['Alex', 'Amy', 'Allen', 'Alice', 'Ayoung'], \n",
    "        'last_name': ['Anderson', 'Ackerman', 'Ali', 'Aoni', 'Atiches']}\n",
    "\n",
    "raw_data_2 = {\n",
    "        'subject_id': ['4', '5', '6', '7', '8'],\n",
    "        'first_name': ['Billy', 'Brian', 'Bran', 'Bryce', 'Betty'], \n",
    "        'last_name': ['Bonder', 'Black', 'Balwner', 'Brice', 'Btisan']}\n",
    "\n",
    "raw_data_3 = {\n",
    "        'subject_id': ['1', '2', '3', '4', '5', '7', '8', '9', '10', '11'],\n",
    "        'test_id': [51, 15, 15, 61, 16, 14, 15, 1, 61, 16]}\n",
    "\n",
    "\n",
    "#---------------------------------Answers Below-----------------------------------------------------------------------------------\n",
    "\n",
    "#Create the 3 DataFrames based on the raw data in the following cell. Assign each dataframe to a variable called data1, data2, data3.\n",
    "\n",
    "\n",
    "#importing pandas library for data manipulation\n",
    "import pandas as pd\n",
    "\n",
    "data1 = pd.DataFrame(raw_data_1, columns=['subject_id', 'first_name', 'last_name'])\n",
    "data2 = pd.DataFrame(raw_data_2, columns=['subject_id', 'first_name', 'last_name'])\n",
    "data3 = pd.DataFrame(raw_data_3, columns=['subject_id', 'test_id'])\n",
    "\n",
    "print(\"Here is the Data1:\")\n",
    "print(\"-----------------------------\")\n",
    "print(data1)\n",
    "\n",
    "print(\"\\n Here is the Data2:\")\n",
    "print(\"-----------------------------\")\n",
    "print(data2)\n",
    "\n",
    "print(\"\\n Here is the Data3:\")\n",
    "print(\"-----------------------------\")\n",
    "print(data3)"
   ]
  },
  {
   "cell_type": "code",
   "execution_count": 2,
   "id": "e32cb34d",
   "metadata": {},
   "outputs": [
    {
     "name": "stdout",
     "output_type": "stream",
     "text": [
      "  subject_id first_name last_name\n",
      "0          1       Alex  Anderson\n",
      "1          2        Amy  Ackerman\n",
      "2          3      Allen       Ali\n",
      "3          4      Alice      Aoni\n",
      "4          5     Ayoung   Atiches\n",
      "0          4      Billy    Bonder\n",
      "1          5      Brian     Black\n",
      "2          6       Bran   Balwner\n",
      "3          7      Bryce     Brice\n",
      "4          8      Betty    Btisan\n"
     ]
    }
   ],
   "source": [
    "#Join the two dataframes along rows and assign all_data.\n",
    "\n",
    "#using 'concat' function to merge dataframes and merging it to new dataframe named as 'all_data'\n",
    "all_data = pd.concat([data1, data2])\n",
    "print(all_data)"
   ]
  },
  {
   "cell_type": "code",
   "execution_count": 3,
   "id": "dd6ecb29",
   "metadata": {},
   "outputs": [
    {
     "name": "stdout",
     "output_type": "stream",
     "text": [
      "  subject_id first_name last_name subject_id first_name last_name\n",
      "0          1       Alex  Anderson          4      Billy    Bonder\n",
      "1          2        Amy  Ackerman          5      Brian     Black\n",
      "2          3      Allen       Ali          6       Bran   Balwner\n",
      "3          4      Alice      Aoni          7      Bryce     Brice\n",
      "4          5     Ayoung   Atiches          8      Betty    Btisan\n"
     ]
    }
   ],
   "source": [
    "#Join the two dataframes along columns and assing to all_data_col\n",
    "\n",
    "#using 'concat' function here to create a new dataframe containing all columns from data1 and data2\n",
    "all_data_col = pd.concat([data1, data2], axis = 1)\n",
    "print(all_data_col)"
   ]
  },
  {
   "cell_type": "code",
   "execution_count": 4,
   "id": "b3291618",
   "metadata": {},
   "outputs": [
    {
     "name": "stdout",
     "output_type": "stream",
     "text": [
      "  subject_id first_name last_name  test_id\n",
      "0          1       Alex  Anderson       51\n",
      "1          2        Amy  Ackerman       15\n",
      "2          3      Allen       Ali       15\n",
      "3          4      Alice      Aoni       61\n",
      "4          4      Billy    Bonder       61\n",
      "5          5     Ayoung   Atiches       16\n",
      "6          5      Brian     Black       16\n",
      "7          7      Bryce     Brice       14\n",
      "8          8      Betty    Btisan       15\n"
     ]
    }
   ],
   "source": [
    "#Merge all_data and data3 along the subject_id value.\n",
    "\n",
    "#Using 'merge' function here to create a new dataframe and printing it directly. The new dataframe contains all the columns from 'all_data' and 'data3' based on matching rows on 'subject_id'\n",
    "print(pd.merge(all_data, data3, on='subject_id'))\n"
   ]
  },
  {
   "cell_type": "code",
   "execution_count": 5,
   "id": "7be34d40",
   "metadata": {},
   "outputs": [
    {
     "name": "stdout",
     "output_type": "stream",
     "text": [
      "  subject_id first_name_x last_name_x first_name_y last_name_y\n",
      "0          4        Alice        Aoni        Billy      Bonder\n",
      "1          5       Ayoung     Atiches        Brian       Black\n"
     ]
    }
   ],
   "source": [
    "#Merge only the data that has the same 'subject_id' on both data1 and data2\n",
    "\n",
    "#merging the data based on given condition above using 'merge' function along with 'inner' join type. The new dataframe contains the matching rows from two datasets using 'subject_id'\n",
    "print(pd.merge(data1, data2, on='subject_id', how='inner'))"
   ]
  },
  {
   "cell_type": "code",
   "execution_count": 6,
   "id": "6692b038",
   "metadata": {},
   "outputs": [
    {
     "name": "stdout",
     "output_type": "stream",
     "text": [
      "  subject_id first_name_x last_name_x first_name_y last_name_y\n",
      "0          1         Alex    Anderson          NaN         NaN\n",
      "1          2          Amy    Ackerman          NaN         NaN\n",
      "2          3        Allen         Ali          NaN         NaN\n",
      "3          4        Alice        Aoni        Billy      Bonder\n",
      "4          5       Ayoung     Atiches        Brian       Black\n",
      "5          6          NaN         NaN         Bran     Balwner\n",
      "6          7          NaN         NaN        Bryce       Brice\n",
      "7          8          NaN         NaN        Betty      Btisan\n"
     ]
    }
   ],
   "source": [
    "#Merge all values in data1 and data2, with matching records from both sides where available.\n",
    "\n",
    "#using 'merge' function and 'outer' join to create a new dataframe containing values in data1 and data2, with matching records from both sides where available\n",
    "print(pd.merge(data1, data2, on='subject_id', how='outer'))"
   ]
  }
 ],
 "metadata": {
  "kernelspec": {
   "display_name": "Python 3 (ipykernel)",
   "language": "python",
   "name": "python3"
  },
  "language_info": {
   "codemirror_mode": {
    "name": "ipython",
    "version": 3
   },
   "file_extension": ".py",
   "mimetype": "text/x-python",
   "name": "python",
   "nbconvert_exporter": "python",
   "pygments_lexer": "ipython3",
   "version": "3.9.13"
  }
 },
 "nbformat": 4,
 "nbformat_minor": 5
}
