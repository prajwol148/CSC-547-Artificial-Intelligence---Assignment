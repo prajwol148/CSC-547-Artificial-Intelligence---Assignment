{
 "cells": [
  {
   "cell_type": "code",
   "execution_count": 2,
   "id": "a67c229b",
   "metadata": {},
   "outputs": [],
   "source": [
    "#Import the necessary libraries \n",
    "\n",
    "import pandas as pd #importing pandas library for data manipulation\n",
    "import numpy as np #importing numpy library to perform array operations on data"
   ]
  },
  {
   "cell_type": "code",
   "execution_count": 4,
   "id": "71b5c5dd",
   "metadata": {},
   "outputs": [],
   "source": [
    "#Import the dataset chipotle and Assign it to a variable. \n",
    "\n",
    "#Importing the dataset from local computer and assigning it to a variable called imported_dataset\n",
    "#In Python, importing a dataset and assigning it to a variable allows us to work with the data in our code.\n",
    "\n",
    "imported_data=pd.read_csv('chipotle.csv')\n"
   ]
  },
  {
   "cell_type": "code",
   "execution_count": 9,
   "id": "0ab50245",
   "metadata": {},
   "outputs": [
    {
     "name": "stdout",
     "output_type": "stream",
     "text": [
      "There are 1130 products in the dataset that cost over $10.\n"
     ]
    }
   ],
   "source": [
    "#How many products cost more than $10.00?\n",
    "\n",
    "\n",
    "#converting the data type of the item_price column in the imported_data DataFrame from a string to a float.\n",
    "imported_data['item_price'] = imported_data['item_price'].astype(float)\n",
    "\n",
    "#creating a boolean series for items that cost more than $10 and counting the number of True values in the series. This gives the total number of products in the dataset that cost over $10, which is then displayed using an f-string.\n",
    "\n",
    "over_10=(imported_data['item_price'] > 10).sum()\n",
    "print(f\"There are {over_10} products in the dataset that cost over $10.\")"
   ]
  },
  {
   "cell_type": "code",
   "execution_count": 10,
   "id": "fbe12d57",
   "metadata": {},
   "outputs": [
    {
     "name": "stdout",
     "output_type": "stream",
     "text": [
      "                                  item_name  item_price\n",
      "0              Chips and Fresh Tomato Salsa        2.39\n",
      "1                                      Izze        3.39\n",
      "2                          Nantucket Nectar        3.39\n",
      "3     Chips and Tomatillo-Green Chili Salsa        2.39\n",
      "4                              Chicken Bowl       16.98\n",
      "...                                     ...         ...\n",
      "4237                    Chips and Guacamole        8.50\n",
      "4354                       Steak Soft Tacos       18.50\n",
      "4489                    Chips and Guacamole       17.80\n",
      "4509                                  Chips        1.99\n",
      "4510                          Barbacoa Bowl       11.49\n",
      "\n",
      "[209 rows x 2 columns]\n"
     ]
    }
   ],
   "source": [
    "#What is the price of each item? (print a data frame with only two columns item_name and item_price)\n",
    "\n",
    "#createing a  DataFrame with  combination of item names and prices\n",
    "#assigning it to a variable called individual_prices \n",
    "#It is then printed using the print function.\n",
    "individual_prices = imported_data[['item_name', 'item_price']].drop_duplicates()\n",
    "print(individual_prices)"
   ]
  },
  {
   "cell_type": "code",
   "execution_count": 11,
   "id": "9dae1840",
   "metadata": {},
   "outputs": [
    {
     "name": "stdout",
     "output_type": "stream",
     "text": [
      "              item_name  item_price\n",
      "3389  6 Pack Soft Drink       12.98\n",
      "298   6 Pack Soft Drink        6.49\n",
      "4510      Barbacoa Bowl       11.49\n",
      "3195      Barbacoa Bowl        8.69\n",
      "95        Barbacoa Bowl        9.25\n",
      "...                 ...         ...\n",
      "186   Veggie Salad Bowl       11.25\n",
      "3889  Veggie Soft Tacos       16.98\n",
      "738   Veggie Soft Tacos       11.25\n",
      "781   Veggie Soft Tacos        8.75\n",
      "1395  Veggie Soft Tacos        8.49\n",
      "\n",
      "[209 rows x 2 columns]\n"
     ]
    }
   ],
   "source": [
    "#Sort by the name of the item\n",
    "\n",
    "#sorting the dataset by item name and then printing it\n",
    "print(individual_prices.sort_values('item_name'))"
   ]
  },
  {
   "cell_type": "code",
   "execution_count": 14,
   "id": "2b815905",
   "metadata": {},
   "outputs": [
    {
     "name": "stdout",
     "output_type": "stream",
     "text": [
      "The most expensive food in the dataset is (Chips and Fresh Tomato Salsa) and it was ordered 15 times.\n"
     ]
    }
   ],
   "source": [
    "#What was the quantity of the most expensive item ordered?\n",
    "\n",
    "\n",
    "#sorting the DataFrame by price in descending order and assigns it to a new variable price_sort. Then, the most expensive item and its quantity are extracted from the first row of the sorted DataFrame, and a formatted string is printed with the item name and its quantity.\n",
    "price_sort = imported_data.sort_values('item_price', ascending=False)\n",
    "costly_item = price_sort.iloc[0]\n",
    "quantity_costly_item = costly_item['quantity']\n",
    "print(f\"The most expensive food in the dataset is ({costly_item['item_name']}) and it was ordered {quantity_costly_item} times.\")\n"
   ]
  },
  {
   "cell_type": "code",
   "execution_count": 12,
   "id": "1007c734",
   "metadata": {},
   "outputs": [
    {
     "name": "stdout",
     "output_type": "stream",
     "text": [
      "The number of times the Veggie Salad Bowl was ordered is 18\n"
     ]
    }
   ],
   "source": [
    "#How many times was a Veggie Salad Bowl ordered?\n",
    "\n",
    "#Counting  the number of times the item 'Veggie Salad Bowl' appears in the DataFrame and assigning it to the variable veg_salad_order. Then, a formatted string is printed with the item name and the number of times it was ordered.\n",
    "\n",
    "veg_salad_order = np.count_nonzero(imported_data.item_name == 'Veggie Salad Bowl')\n",
    "\n",
    "print(f\"The number of times the Veggie Salad Bowl was ordered is {veg_salad_order}\")"
   ]
  },
  {
   "cell_type": "code",
   "execution_count": 13,
   "id": "bb635b88",
   "metadata": {},
   "outputs": [
    {
     "name": "stdout",
     "output_type": "stream",
     "text": [
      "The number of times someone ordered more than one Canned Soda was 20\n"
     ]
    }
   ],
   "source": [
    "#How many times did someone order more than one Canned Soda?\n",
    "\n",
    "\n",
    "\n",
    "#counting the number of times customers purchased multiple cans of soda from a dataset. This is accomplished by first filtering the dataset for orders of Canned Soda and then again for orders with a quantity higher than one. The result is printed after it has counted all of these purchases.\n",
    "\n",
    "canned_soda_order = imported_data[imported_data['item_name'] == 'Canned Soda']\n",
    "canned_soda_order_over_1 = canned_soda_order[canned_soda_order['quantity'] > 1]\n",
    "total_order = len(canned_soda_order_over_1)\n",
    "print(f\"The number of times someone ordered more than one Canned Soda was {total_order}\")\n"
   ]
  }
 ],
 "metadata": {
  "kernelspec": {
   "display_name": "Python 3 (ipykernel)",
   "language": "python",
   "name": "python3"
  },
  "language_info": {
   "codemirror_mode": {
    "name": "ipython",
    "version": 3
   },
   "file_extension": ".py",
   "mimetype": "text/x-python",
   "name": "python",
   "nbconvert_exporter": "python",
   "pygments_lexer": "ipython3",
   "version": "3.9.13"
  }
 },
 "nbformat": 4,
 "nbformat_minor": 5
}
